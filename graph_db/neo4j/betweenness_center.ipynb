{
 "cells": [
  {
   "cell_type": "code",
   "execution_count": 1,
   "metadata": {},
   "outputs": [],
   "source": [
    "import pandas as pd\n",
    "import numpy as np\n",
    "\n",
    "from graphframes import *\n",
    "from pyspark import SparkContext\n",
    "\n",
    "from pyspark.sql import SparkSession\n",
    "spark = SparkSession.builder.getOrCreate()"
   ]
  },
  {
   "cell_type": "code",
   "execution_count": 2,
   "metadata": {},
   "outputs": [],
   "source": [
    "from py2neo import Graph\n",
    "ip = \"192.168.0.103\"\n",
    "graph = Graph(\"bolt://%s:7687\"%ip, password=\"123456\")"
   ]
  },
  {
   "cell_type": "markdown",
   "metadata": {},
   "source": [
    "##### Degree Table"
   ]
  },
  {
   "cell_type": "code",
   "execution_count": 3,
   "metadata": {},
   "outputs": [
    {
     "name": "stdout",
     "output_type": "stream",
     "text": [
      "+-------+----------+\n",
      "|   name|centrality|\n",
      "+-------+----------+\n",
      "|  Estes|      22.5|\n",
      "|  Steph|      19.0|\n",
      "|Antonia|      19.0|\n",
      "|Melanie|      19.0|\n",
      "| Briley|      16.0|\n",
      "+-------+----------+\n",
      "only showing top 5 rows\n",
      "\n"
     ]
    }
   ],
   "source": [
    "query = \"\"\"\n",
    "CALL algo.betweenness.stream(\"Person\", \"KNOWS\")\n",
    "YIELD nodeId, centrality\n",
    "RETURN algo.getNodeById(nodeId).name as name, centrality\n",
    "ORDER BY centrality DESC\n",
    "\"\"\"\n",
    "\n",
    "df_rank = graph.run(query).to_data_frame()\n",
    "df_rank = spark.createDataFrame(df_rank.values.tolist(), list(df_rank.columns.values))\n",
    "df_rank.createOrReplaceTempView('df_rank')\n",
    "df_rank.show(5)"
   ]
  },
  {
   "cell_type": "markdown",
   "metadata": {},
   "source": [
    "##### Component Table"
   ]
  },
  {
   "cell_type": "code",
   "execution_count": 4,
   "metadata": {},
   "outputs": [
    {
     "name": "stdout",
     "output_type": "stream",
     "text": [
      "+-------+---------+\n",
      "|   name|component|\n",
      "+-------+---------+\n",
      "|  Kyson|        0|\n",
      "| Xander|        1|\n",
      "|Gabriel|        2|\n",
      "|  Edith|        0|\n",
      "| Emelia|        0|\n",
      "+-------+---------+\n",
      "only showing top 5 rows\n",
      "\n"
     ]
    }
   ],
   "source": [
    "query = \"\"\"\n",
    "CALL algo.unionFind.stream(\"Person\", \"KNOWS\")\n",
    "YIELD nodeId, setId\n",
    "RETURN algo.getNodeById(nodeId).name as name, setId as component\n",
    "\"\"\"\n",
    "\n",
    "graph.run(query).to_data_frame()\n",
    "\n",
    "df_tmp = graph.run(query).to_data_frame()\n",
    "df_tmp = spark.createDataFrame(df_tmp.values.tolist(), list(df_tmp.columns.values))\n",
    "df_tmp.createOrReplaceTempView('df_tmp')\n",
    "df_tmp.show(5)"
   ]
  },
  {
   "cell_type": "markdown",
   "metadata": {},
   "source": [
    "##### Size Table (for filtering)"
   ]
  },
  {
   "cell_type": "code",
   "execution_count": 5,
   "metadata": {},
   "outputs": [
    {
     "name": "stdout",
     "output_type": "stream",
     "text": [
      "+---------+---+\n",
      "|component| sz|\n",
      "+---------+---+\n",
      "|        9| 14|\n",
      "|       14| 14|\n",
      "|        0|  7|\n",
      "|        1|  3|\n",
      "|        7|  2|\n",
      "+---------+---+\n",
      "only showing top 5 rows\n",
      "\n"
     ]
    }
   ],
   "source": [
    "sql = \"\"\"\n",
    "select component, count(*) as sz\n",
    "from df_tmp\n",
    "group by component\n",
    "order by sz desc\n",
    "\"\"\"\n",
    "\n",
    "df_sz = spark.sql(sql)\n",
    "df_sz.createOrReplaceTempView('df_sz')\n",
    "df_sz.show(5)"
   ]
  },
  {
   "cell_type": "markdown",
   "metadata": {},
   "source": [
    "#### Mark Core\n",
    "\n",
    "\n",
    "<img src=\"assets/50_degree_center.svg\" alt=\"Drawing\" style=\"width: 800px;\"/>"
   ]
  },
  {
   "cell_type": "code",
   "execution_count": 6,
   "metadata": {},
   "outputs": [
    {
     "data": {
      "text/html": [
       "<div>\n",
       "<style scoped>\n",
       "    .dataframe tbody tr th:only-of-type {\n",
       "        vertical-align: middle;\n",
       "    }\n",
       "\n",
       "    .dataframe tbody tr th {\n",
       "        vertical-align: top;\n",
       "    }\n",
       "\n",
       "    .dataframe thead th {\n",
       "        text-align: right;\n",
       "    }\n",
       "</style>\n",
       "<table border=\"1\" class=\"dataframe\">\n",
       "  <thead>\n",
       "    <tr style=\"text-align: right;\">\n",
       "      <th></th>\n",
       "      <th>name</th>\n",
       "      <th>component</th>\n",
       "      <th>centrality</th>\n",
       "      <th>sz</th>\n",
       "    </tr>\n",
       "  </thead>\n",
       "  <tbody>\n",
       "    <tr>\n",
       "      <th>0</th>\n",
       "      <td>Edith</td>\n",
       "      <td>0</td>\n",
       "      <td>2.0</td>\n",
       "      <td>7</td>\n",
       "    </tr>\n",
       "    <tr>\n",
       "      <th>1</th>\n",
       "      <td>Melanie</td>\n",
       "      <td>9</td>\n",
       "      <td>19.0</td>\n",
       "      <td>14</td>\n",
       "    </tr>\n",
       "    <tr>\n",
       "      <th>2</th>\n",
       "      <td>Xander</td>\n",
       "      <td>1</td>\n",
       "      <td>1.0</td>\n",
       "      <td>3</td>\n",
       "    </tr>\n",
       "    <tr>\n",
       "      <th>3</th>\n",
       "      <td>Estes</td>\n",
       "      <td>14</td>\n",
       "      <td>22.5</td>\n",
       "      <td>14</td>\n",
       "    </tr>\n",
       "  </tbody>\n",
       "</table>\n",
       "</div>"
      ],
      "text/plain": [
       "      name  component  centrality  sz\n",
       "0    Edith          0         2.0   7\n",
       "1  Melanie          9        19.0  14\n",
       "2   Xander          1         1.0   3\n",
       "3    Estes         14        22.5  14"
      ]
     },
     "execution_count": 6,
     "metadata": {},
     "output_type": "execute_result"
    }
   ],
   "source": [
    "sql = \"\"\"\n",
    "with numbered as (\n",
    "select\n",
    "  a.name, a.component, b.centrality\n",
    "  ,row_number() over (partition by component order by centrality desc, a.name) as rn\n",
    "from df_tmp as a\n",
    "join df_rank as b\n",
    "on a.name = b.name\n",
    ")\n",
    "select a.name, a.component, a.centrality, b.sz\n",
    "from numbered a\n",
    "join df_sz as b\n",
    "on a.component = b.component\n",
    "where rn = 1\n",
    "  and b.sz > 2\n",
    "\"\"\"\n",
    "df_core = spark.sql(sql).toPandas()\n",
    "df_core.head()"
   ]
  },
  {
   "cell_type": "code",
   "execution_count": null,
   "metadata": {},
   "outputs": [],
   "source": [
    "# Unmark Core\n",
    "cql = \"\"\"\n",
    "MATCH (n)\n",
    "REMOVE n:Core\n",
    "return n\n",
    "\"\"\"\n",
    "graph.run(cql)"
   ]
  },
  {
   "cell_type": "code",
   "execution_count": 7,
   "metadata": {},
   "outputs": [
    {
     "name": "stdout",
     "output_type": "stream",
     "text": [
      "\n",
      "MATCH (n)\n",
      "WHERE n.name IN [\"Edith\", \"Melanie\", \"Xander\", \"Estes\"]\n",
      "SET n:Core\n",
      "return n\n",
      "\n"
     ]
    }
   ],
   "source": [
    "cql = \"\"\"\n",
    "MATCH (n)\n",
    "WHERE n.name IN [%s]\n",
    "SET n:Core\n",
    "return n\n",
    "\"\"\"%\", \".join(\"\\\"%s\\\"\"%core for core in df_core.name.values)\n",
    "print(cql)\n",
    "graph.run(cql)"
   ]
  }
 ],
 "metadata": {
  "kernelspec": {
   "display_name": "Python 3",
   "language": "python",
   "name": "python3"
  },
  "language_info": {
   "codemirror_mode": {
    "name": "ipython",
    "version": 3
   },
   "file_extension": ".py",
   "mimetype": "text/x-python",
   "name": "python",
   "nbconvert_exporter": "python",
   "pygments_lexer": "ipython3",
   "version": "3.7.3"
  }
 },
 "nbformat": 4,
 "nbformat_minor": 2
}
