{
 "cells": [
  {
   "cell_type": "code",
   "execution_count": 1,
   "metadata": {},
   "outputs": [],
   "source": [
    "import random\n",
    "rand_edge = lambda p: random.random() < p\n",
    "\n",
    "import pandas as pd\n",
    "import numpy as np"
   ]
  },
  {
   "cell_type": "code",
   "execution_count": 2,
   "metadata": {},
   "outputs": [],
   "source": [
    "def write_file(fname, content):\n",
    "    f = open(fname, \"w+\")\n",
    "\n",
    "    f.write(content)\n",
    "    f.close()"
   ]
  },
  {
   "cell_type": "markdown",
   "metadata": {},
   "source": [
    "#### Create Node"
   ]
  },
  {
   "cell_type": "code",
   "execution_count": 3,
   "metadata": {},
   "outputs": [
    {
     "name": "stdout",
     "output_type": "stream",
     "text": [
      "100\n"
     ]
    }
   ],
   "source": [
    "fname = \"data/names.csv\"\n",
    "df = pd.read_csv(fname)\n",
    "\n",
    "# df.sample(frac=0.1)\n",
    "df_sample = df.sample(n=100, replace=False)\n",
    "names = df_sample.name.values.tolist()\n",
    "\n",
    "print(len(set(names)))\n",
    "names = list(set(names))\n",
    "cql = \"CREATE \\n\" + \",\".join(\"(%s : Person {name: \\\"%s\\\"})\\n\"%(name, name) for name in names)"
   ]
  },
  {
   "cell_type": "markdown",
   "metadata": {},
   "source": [
    "#### Partition"
   ]
  },
  {
   "cell_type": "code",
   "execution_count": 4,
   "metadata": {},
   "outputs": [
    {
     "name": "stdout",
     "output_type": "stream",
     "text": [
      "25 15 20 40\n"
     ]
    }
   ],
   "source": [
    "# initial partition\n",
    "i1, i2, i3 = 25, 40, 60\n",
    "\n",
    "c1 = names[:i1]\n",
    "c2 = names[i1:i2]\n",
    "c3 = names[i2:i3]\n",
    "c4 = names[i3:]\n",
    "cs = [c1, c2, c3, c4]\n",
    "\n",
    "print(len(c1), len(c2), len(c3), len(c4))"
   ]
  },
  {
   "cell_type": "markdown",
   "metadata": {},
   "source": [
    "#### Iterate"
   ]
  },
  {
   "cell_type": "code",
   "execution_count": 5,
   "metadata": {},
   "outputs": [],
   "source": [
    "volatility = 20\n",
    "cohesity = 0.05"
   ]
  },
  {
   "cell_type": "code",
   "execution_count": 6,
   "metadata": {},
   "outputs": [],
   "source": [
    "# randomly swap nodes among partitions\n",
    "for i in range(volatility):\n",
    "    ia, ib = np.random.choice(range(len(cs)), 2)\n",
    "    if ia != ib:\n",
    "        ca, cb = cs[ia], cs[ib]\n",
    "        cai = np.random.choice(range(len(ca)))\n",
    "        cbi = np.random.choice(range(len(cb)))\n",
    "        ca[cai], cb[cbi] = cb[cbi], ca[cai]\n",
    "\n",
    "# randomly establish edges\n",
    "rel = \"\"\"\"\"\"\n",
    "edges = []\n",
    "\n",
    "for c in cs:\n",
    "    for src in c:\n",
    "        for dst in c:\n",
    "            if src != dst and rand_edge(cohesity):\n",
    "                rel += \",(%s)-[:KNOWS]->(%s)\\n\"%(src, dst)\n",
    "                edges.append((names.index(src), names.index(dst)))\n",
    "\n",
    "fname = \"data/community_evolution/init.cql\"\n",
    "write_file(fname, cql + rel)\n",
    "\n",
    "# needed for degree centrality\n",
    "pd.DataFrame({\"id\": range(len(names)), \"name\": names}).to_csv(\"data/community_evolution/init_v.csv\", index=False)\n",
    "pd.DataFrame(edges, columns=[\"src\", \"dst\"]).to_csv(\"data/community_evolution/init_e.csv\", index=False)"
   ]
  },
  {
   "cell_type": "code",
   "execution_count": 7,
   "metadata": {},
   "outputs": [
    {
     "data": {
      "text/plain": [
       "<py2neo.database.Cursor at 0x11fd4c080>"
      ]
     },
     "execution_count": 7,
     "metadata": {},
     "output_type": "execute_result"
    }
   ],
   "source": [
    "from py2neo import Graph\n",
    "\n",
    "ip = \"192.168.0.101\"\n",
    "graph = Graph(\"bolt://%s:7687\"%ip, password=\"123456\")\n",
    "\n",
    "graph.run(\"MATCH (n) DETACH DELETE n;\")\n",
    "graph.run(cql + rel)"
   ]
  }
 ],
 "metadata": {
  "kernelspec": {
   "display_name": "Python 3",
   "language": "python",
   "name": "python3"
  },
  "language_info": {
   "codemirror_mode": {
    "name": "ipython",
    "version": 3
   },
   "file_extension": ".py",
   "mimetype": "text/x-python",
   "name": "python",
   "nbconvert_exporter": "python",
   "pygments_lexer": "ipython3",
   "version": "3.7.3"
  }
 },
 "nbformat": 4,
 "nbformat_minor": 2
}
