{
 "cells": [
  {
   "cell_type": "code",
   "execution_count": 1,
   "metadata": {},
   "outputs": [],
   "source": [
    "import pandas as pd\n",
    "import numpy as np\n",
    "\n",
    "from graphframes import *\n",
    "from pyspark import SparkContext\n",
    "\n",
    "from pyspark.sql import SparkSession\n",
    "spark = SparkSession.builder.getOrCreate()"
   ]
  },
  {
   "cell_type": "code",
   "execution_count": 8,
   "metadata": {},
   "outputs": [],
   "source": [
    "from py2neo import Graph\n",
    "ip = \"192.168.0.101\"\n",
    "graph = Graph(\"bolt://%s:7687\"%ip, password=\"123456\")"
   ]
  },
  {
   "cell_type": "code",
   "execution_count": 9,
   "metadata": {},
   "outputs": [],
   "source": [
    "v = spark.read.csv(\"data/community_evolution/day_0_v.csv\", header=True)\n",
    "e = spark.read.csv(\"data/community_evolution/day_0_e.csv\", header=True)\n",
    "g = GraphFrame(v, e)"
   ]
  },
  {
   "cell_type": "markdown",
   "metadata": {},
   "source": [
    "##### Degree Table"
   ]
  },
  {
   "cell_type": "code",
   "execution_count": 19,
   "metadata": {},
   "outputs": [
    {
     "name": "stdout",
     "output_type": "stream",
     "text": [
      "+-------+------+\n",
      "|   name|degree|\n",
      "+-------+------+\n",
      "| Gerald|     9|\n",
      "| Rainey|     7|\n",
      "|  Helga|     6|\n",
      "|Barbara|     6|\n",
      "|   Trey|     6|\n",
      "+-------+------+\n",
      "only showing top 5 rows\n",
      "\n"
     ]
    }
   ],
   "source": [
    "cql = \"match (p)--(r) with p, count(r) as degree return p.name as name, degree order by degree desc\"\n",
    "\n",
    "df_degree = graph.run(cql).to_data_frame()\n",
    "df_degree = spark.createDataFrame(df_degree.values.tolist(), list(df_degree.columns.values))\n",
    "df_degree.createOrReplaceTempView('df_rank')\n",
    "df_degree.show(5)"
   ]
  },
  {
   "cell_type": "markdown",
   "metadata": {},
   "source": [
    "##### Component Table"
   ]
  },
  {
   "cell_type": "code",
   "execution_count": 20,
   "metadata": {},
   "outputs": [
    {
     "name": "stdout",
     "output_type": "stream",
     "text": [
      "+--------+---------+\n",
      "|    name|component|\n",
      "+--------+---------+\n",
      "|     Roy|        0|\n",
      "|  Philip|        1|\n",
      "|    Joey|        1|\n",
      "|Isabella|        1|\n",
      "|  Howard|        1|\n",
      "+--------+---------+\n",
      "only showing top 5 rows\n",
      "\n"
     ]
    }
   ],
   "source": [
    "query = \"\"\"\n",
    "CALL algo.unionFind.stream(\"Person\", \"KNOWS\")\n",
    "YIELD nodeId, setId\n",
    "RETURN algo.getNodeById(nodeId).name as name, setId as component\n",
    "\"\"\"\n",
    "\n",
    "graph.run(query).to_data_frame()\n",
    "\n",
    "df_tmp = graph.run(query).to_data_frame()\n",
    "df_tmp = spark.createDataFrame(df_tmp.values.tolist(), list(df_tmp.columns.values))\n",
    "df_tmp.createOrReplaceTempView('df_tmp')\n",
    "df_tmp.show(5)"
   ]
  },
  {
   "cell_type": "markdown",
   "metadata": {},
   "source": [
    "##### Size Table (for filtering)"
   ]
  },
  {
   "cell_type": "code",
   "execution_count": 21,
   "metadata": {},
   "outputs": [
    {
     "data": {
      "text/html": [
       "<div>\n",
       "<style scoped>\n",
       "    .dataframe tbody tr th:only-of-type {\n",
       "        vertical-align: middle;\n",
       "    }\n",
       "\n",
       "    .dataframe tbody tr th {\n",
       "        vertical-align: top;\n",
       "    }\n",
       "\n",
       "    .dataframe thead th {\n",
       "        text-align: right;\n",
       "    }\n",
       "</style>\n",
       "<table border=\"1\" class=\"dataframe\">\n",
       "  <thead>\n",
       "    <tr style=\"text-align: right;\">\n",
       "      <th></th>\n",
       "      <th>component</th>\n",
       "      <th>sz</th>\n",
       "    </tr>\n",
       "  </thead>\n",
       "  <tbody>\n",
       "    <tr>\n",
       "      <th>0</th>\n",
       "      <td>31</td>\n",
       "      <td>39</td>\n",
       "    </tr>\n",
       "    <tr>\n",
       "      <th>1</th>\n",
       "      <td>1</td>\n",
       "      <td>20</td>\n",
       "    </tr>\n",
       "    <tr>\n",
       "      <th>2</th>\n",
       "      <td>16</td>\n",
       "      <td>12</td>\n",
       "    </tr>\n",
       "    <tr>\n",
       "      <th>3</th>\n",
       "      <td>35</td>\n",
       "      <td>8</td>\n",
       "    </tr>\n",
       "    <tr>\n",
       "      <th>4</th>\n",
       "      <td>43</td>\n",
       "      <td>5</td>\n",
       "    </tr>\n",
       "  </tbody>\n",
       "</table>\n",
       "</div>"
      ],
      "text/plain": [
       "   component  sz\n",
       "0         31  39\n",
       "1          1  20\n",
       "2         16  12\n",
       "3         35   8\n",
       "4         43   5"
      ]
     },
     "execution_count": 21,
     "metadata": {},
     "output_type": "execute_result"
    }
   ],
   "source": [
    "sql = \"\"\"\n",
    "select component, count(*) as sz\n",
    "from df_tmp\n",
    "group by component\n",
    "order by sz desc\n",
    "\"\"\"\n",
    "\n",
    "df_sz = spark.sql(sql)\n",
    "df_sz.createOrReplaceTempView('df_sz')\n",
    "df_sz = df_sz.toPandas()\n",
    "df_sz.head()"
   ]
  },
  {
   "cell_type": "markdown",
   "metadata": {},
   "source": [
    "#### Mark Core\n",
    "\n",
    "\n",
    "<img src=\"assets/50_degree_center.svg\" alt=\"Drawing\" style=\"width: 800px;\"/>"
   ]
  },
  {
   "cell_type": "code",
   "execution_count": 24,
   "metadata": {},
   "outputs": [
    {
     "data": {
      "text/html": [
       "<div>\n",
       "<style scoped>\n",
       "    .dataframe tbody tr th:only-of-type {\n",
       "        vertical-align: middle;\n",
       "    }\n",
       "\n",
       "    .dataframe tbody tr th {\n",
       "        vertical-align: top;\n",
       "    }\n",
       "\n",
       "    .dataframe thead th {\n",
       "        text-align: right;\n",
       "    }\n",
       "</style>\n",
       "<table border=\"1\" class=\"dataframe\">\n",
       "  <thead>\n",
       "    <tr style=\"text-align: right;\">\n",
       "      <th></th>\n",
       "      <th>name</th>\n",
       "      <th>component</th>\n",
       "      <th>degree</th>\n",
       "      <th>sz</th>\n",
       "    </tr>\n",
       "  </thead>\n",
       "  <tbody>\n",
       "    <tr>\n",
       "      <th>0</th>\n",
       "      <td>Joanna</td>\n",
       "      <td>43</td>\n",
       "      <td>4</td>\n",
       "      <td>5</td>\n",
       "    </tr>\n",
       "    <tr>\n",
       "      <th>1</th>\n",
       "      <td>Gerald</td>\n",
       "      <td>31</td>\n",
       "      <td>9</td>\n",
       "      <td>39</td>\n",
       "    </tr>\n",
       "    <tr>\n",
       "      <th>2</th>\n",
       "      <td>Helga</td>\n",
       "      <td>1</td>\n",
       "      <td>6</td>\n",
       "      <td>20</td>\n",
       "    </tr>\n",
       "    <tr>\n",
       "      <th>3</th>\n",
       "      <td>Cornelia</td>\n",
       "      <td>35</td>\n",
       "      <td>3</td>\n",
       "      <td>8</td>\n",
       "    </tr>\n",
       "    <tr>\n",
       "      <th>4</th>\n",
       "      <td>Florence</td>\n",
       "      <td>16</td>\n",
       "      <td>3</td>\n",
       "      <td>12</td>\n",
       "    </tr>\n",
       "  </tbody>\n",
       "</table>\n",
       "</div>"
      ],
      "text/plain": [
       "       name  component  degree  sz\n",
       "0    Joanna         43       4   5\n",
       "1    Gerald         31       9  39\n",
       "2     Helga          1       6  20\n",
       "3  Cornelia         35       3   8\n",
       "4  Florence         16       3  12"
      ]
     },
     "execution_count": 24,
     "metadata": {},
     "output_type": "execute_result"
    }
   ],
   "source": [
    "sql = \"\"\"\n",
    "with numbered as (\n",
    "select\n",
    "  a.name, a.component, b.degree\n",
    "  ,row_number() over (partition by component order by degree desc, a.name) as rn\n",
    "from df_tmp as a\n",
    "join df_rank as b\n",
    "on a.name = b.name\n",
    ")\n",
    "select a.name, a.component, a.degree, b.sz\n",
    "from numbered a\n",
    "join df_sz as b\n",
    "on a.component = b.component\n",
    "where rn = 1\n",
    "  and b.sz > 2\n",
    "\"\"\"\n",
    "df_core = spark.sql(sql).toPandas()\n",
    "df_core.head()"
   ]
  },
  {
   "cell_type": "code",
   "execution_count": 25,
   "metadata": {},
   "outputs": [
    {
     "data": {
      "text/plain": [
       "<py2neo.database.Cursor at 0x7f16ceccd0b8>"
      ]
     },
     "execution_count": 25,
     "metadata": {},
     "output_type": "execute_result"
    }
   ],
   "source": [
    "# Unmark Core\n",
    "cql = \"\"\"\n",
    "MATCH (n)\n",
    "REMOVE n:Core\n",
    "return n\n",
    "\"\"\"\n",
    "graph.run(cql)"
   ]
  },
  {
   "cell_type": "code",
   "execution_count": 26,
   "metadata": {},
   "outputs": [
    {
     "name": "stdout",
     "output_type": "stream",
     "text": [
      "\n",
      "MATCH (n)\n",
      "WHERE n.name IN [\"Joanna\", \"Gerald\", \"Helga\", \"Cornelia\", \"Florence\"]\n",
      "SET n:Core\n",
      "return n\n",
      "\n"
     ]
    },
    {
     "data": {
      "text/plain": [
       "<py2neo.database.Cursor at 0x7f16cdec85f8>"
      ]
     },
     "execution_count": 26,
     "metadata": {},
     "output_type": "execute_result"
    }
   ],
   "source": [
    "cql = \"\"\"\n",
    "MATCH (n)\n",
    "WHERE n.name IN [%s]\n",
    "SET n:Core\n",
    "return n\n",
    "\"\"\"%\", \".join(\"\\\"%s\\\"\"%core for core in df_core.name.values)\n",
    "print(cql)\n",
    "graph.run(cql)"
   ]
  }
 ],
 "metadata": {
  "kernelspec": {
   "display_name": "Python 3",
   "language": "python",
   "name": "python3"
  },
  "language_info": {
   "codemirror_mode": {
    "name": "ipython",
    "version": 3
   },
   "file_extension": ".py",
   "mimetype": "text/x-python",
   "name": "python",
   "nbconvert_exporter": "python",
   "pygments_lexer": "ipython3",
   "version": "3.7.3"
  }
 },
 "nbformat": 4,
 "nbformat_minor": 2
}
